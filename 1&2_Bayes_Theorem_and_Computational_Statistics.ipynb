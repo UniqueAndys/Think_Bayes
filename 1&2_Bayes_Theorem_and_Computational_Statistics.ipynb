{
 "cells": [
  {
   "cell_type": "markdown",
   "metadata": {},
   "source": [
    "# 贝叶斯定理及统计计算"
   ]
  },
  {
   "cell_type": "markdown",
   "metadata": {},
   "source": [
    "## 历时诠释\n",
    "根据数据集 $D$ 的内容变化更新假设概率 $H$，这种对贝叶斯定理的理解被称为“历时诠释”。  \n",
    "$$P(H|D) = \\frac{P(H)P(D|H)}{P(D)}$$\n",
    "- $P(H)$ 称为**先验概率**，即在得到新数据前某一假设的概率。\n",
    "- $P(H|D)$ 称为**后验概率**，即在看到新数据后，我们要计算的该假设的概率。\n",
    "- $P(D|H)$ 是该假设下得到这一数据的概率，称为**似然度**。\n",
    "- $P(D)$ 是在任何假设下得到这一数据的概率，称为**标准化常量**。\n",
    "\n",
    "最常见的，我们可以指定一组如下的假设集来简化。  \n",
    "**互斥的**：集合中，至多一个假设为真。  \n",
    "**完备的**：集合中，至少一个假设必为真，且集合包含了所有的假设。"
   ]
  },
  {
   "cell_type": "code",
   "execution_count": 1,
   "metadata": {
    "collapsed": false
   },
   "outputs": [
    {
     "name": "stdout",
     "output_type": "stream",
     "text": [
      "0.6\n"
     ]
    }
   ],
   "source": [
    "from thinkbayes import Pmf\n",
    "pmf = Pmf()\n",
    "pmf.Set('Bowl1', 0.5)\n",
    "pmf.Set('Bowl2', 0.5)\n",
    "pmf.Mult('Bowl1', 0.75)\n",
    "pmf.Mult('Bowl2', 0.5)\n",
    "pmf.Normalize()\n",
    "print(pmf.Prob('Bowl1'))"
   ]
  },
  {
   "cell_type": "markdown",
   "metadata": {},
   "source": [
    "## 曲奇饼问题"
   ]
  },
  {
   "cell_type": "code",
   "execution_count": 7,
   "metadata": {
    "collapsed": true
   },
   "outputs": [],
   "source": [
    "class Cookie(Pmf):\n",
    "    def __init__(self, hypos):\n",
    "        Pmf.__init__(self)\n",
    "        # 给每个假设赋予相同的先验概率\n",
    "        for hypo in hypos:\n",
    "            self.Set(hypo, 1)\n",
    "        self.Normalize()\n",
    "        \n",
    "    def Update(self, data):\n",
    "        for hypo in self.Values():\n",
    "            # 似然度\n",
    "            like = self.Likelihood(data, hypo)\n",
    "            self.Mult(hypo, like)\n",
    "        self.Normalize()\n",
    "    \n",
    "    # 碗名和碗中曲奇饼的比例\n",
    "    mixes = {'Bowl1':dict(vanilla=0.75, chocolate=0.25),\n",
    "             'Bowl2':dict(vanilla=0.5, chocolate=0.5)}\n",
    "    \n",
    "    def Likelihood(self, data, hypo):\n",
    "        mix = self.mixes[hypo]\n",
    "        like = mix[data]\n",
    "        return like"
   ]
  },
  {
   "cell_type": "code",
   "execution_count": 8,
   "metadata": {
    "collapsed": false
   },
   "outputs": [
    {
     "name": "stdout",
     "output_type": "stream",
     "text": [
      "('Bowl1', 0.6000000000000001)\n",
      "('Bowl2', 0.4)\n"
     ]
    }
   ],
   "source": [
    "hypos = ['Bowl1', 'Bowl2']\n",
    "pmf = Cookie(hypos)\n",
    "pmf.Update('vanilla')\n",
    "for hypo, prob in pmf.Items():\n",
    "    print(hypo, prob)"
   ]
  },
  {
   "cell_type": "markdown",
   "metadata": {},
   "source": [
    "## Monty Hall 难题"
   ]
  },
  {
   "cell_type": "code",
   "execution_count": 12,
   "metadata": {
    "collapsed": true
   },
   "outputs": [],
   "source": [
    "class Monty(Pmf):\n",
    "    # 代表一套假设及其概率\n",
    "    def __init__(self, hypos):\n",
    "        # 初始化分配\n",
    "        Pmf.__init__(self)\n",
    "        for hypo in hypos:\n",
    "            self.Set(hypo, 1)\n",
    "        self.Normalize()\n",
    "        \n",
    "    def Update(self, data):\n",
    "        # 跟新基于该数据的每个假设\n",
    "        for hypo in self.Values():\n",
    "            like = self.Likelihood(data, hypo)\n",
    "            self.Mult(hypo, like)\n",
    "        self.Normalize()\n",
    "        \n",
    "    def Likelihood(self, data, hypo):\n",
    "        # 计算似然\n",
    "        if hypo == data:\n",
    "            return 0\n",
    "        elif hypo == 'A':\n",
    "            return 0.5\n",
    "        else:\n",
    "            return 1"
   ]
  },
  {
   "cell_type": "code",
   "execution_count": 13,
   "metadata": {
    "collapsed": false
   },
   "outputs": [
    {
     "name": "stdout",
     "output_type": "stream",
     "text": [
      "('A', 0.3333333333333333)\n",
      "('C', 0.6666666666666666)\n",
      "('B', 0.0)\n"
     ]
    }
   ],
   "source": [
    "hypos = 'ABC'\n",
    "pmf = Monty(hypos)\n",
    "data = 'B'\n",
    "pmf.Update(data)\n",
    "for hypo, prob in pmf.Items():\n",
    "    print(hypo, prob)"
   ]
  },
  {
   "cell_type": "markdown",
   "metadata": {},
   "source": [
    "## 封装框架"
   ]
  },
  {
   "cell_type": "code",
   "execution_count": 14,
   "metadata": {
    "collapsed": false
   },
   "outputs": [
    {
     "name": "stdout",
     "output_type": "stream",
     "text": [
      "A 0.333333333333\n",
      "B 0.0\n",
      "C 0.666666666667\n"
     ]
    }
   ],
   "source": [
    "from thinkbayes import Suite\n",
    "class TestMonty(Suite):\n",
    "    def Likelihood(self, data, hypo):\n",
    "        if hypo == data:\n",
    "            return 0\n",
    "        elif hypo == 'A':\n",
    "            return 0.5\n",
    "        else:\n",
    "            return 1\n",
    "\n",
    "suite = TestMonty('ABC')\n",
    "suite.Update('B')\n",
    "suite.Print()"
   ]
  },
  {
   "cell_type": "markdown",
   "metadata": {},
   "source": [
    "## M&M豆问题"
   ]
  },
  {
   "cell_type": "code",
   "execution_count": 15,
   "metadata": {
    "collapsed": false
   },
   "outputs": [
    {
     "name": "stdout",
     "output_type": "stream",
     "text": [
      "A 0.740740740741\n",
      "B 0.259259259259\n"
     ]
    }
   ],
   "source": [
    "class M_and_M(Suite):\n",
    "    mix94 = dict(brown=30, yellow=20, red=20,\n",
    "                 green=10, orange=10, tan=10)\n",
    "    mix96 = dict(blue=24, green=20, orange=16,\n",
    "                 yellow=14, red=13, brown=13)\n",
    "    hypoA = dict(bag1 = mix94, bag2 = mix96)\n",
    "    hypoB = dict(bag1 = mix96, bag2 = mix94)\n",
    "    hypotheses = dict(A=hypoA, B=hypoB)\n",
    "    def Likelihood(self, data, hypo):\n",
    "        bag, color = data\n",
    "        mix = self.hypotheses[hypo][bag]\n",
    "        like = mix[color]\n",
    "        return like\n",
    "    \n",
    "suite = M_and_M('AB')\n",
    "suite.Update(('bag1', 'yellow'))\n",
    "suite.Update(('bag2', 'green'))\n",
    "suite.Print()"
   ]
  }
 ],
 "metadata": {
  "anaconda-cloud": {},
  "kernelspec": {
   "display_name": "Python [conda root]",
   "language": "python",
   "name": "conda-root-py"
  },
  "language_info": {
   "codemirror_mode": {
    "name": "ipython",
    "version": 2
   },
   "file_extension": ".py",
   "mimetype": "text/x-python",
   "name": "python",
   "nbconvert_exporter": "python",
   "pygments_lexer": "ipython2",
   "version": "2.7.12"
  }
 },
 "nbformat": 4,
 "nbformat_minor": 1
}
