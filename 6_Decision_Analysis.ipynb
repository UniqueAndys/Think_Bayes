{
 "cells": [
  {
   "cell_type": "markdown",
   "metadata": {},
   "source": [
    "# 决策分析"
   ]
  },
  {
   "cell_type": "markdown",
   "metadata": {},
   "source": [
    "## “正确的价格”问题"
   ]
  },
  {
   "cell_type": "markdown",
   "metadata": {},
   "source": [
    "1. 在看到奖品前，选手对展示品的价格应该有什么样的先验分布判断？\n",
    "2. 看到奖品后，选手应该如何修正这些预期？\n",
    "3. 基于后验分布，选手应该怎么出价？（决策分析）"
   ]
  },
  {
   "cell_type": "markdown",
   "metadata": {},
   "source": [
    "PDF 概率密度函数  \n",
    "KDE 内核密度估计，从样本找到一个恰当平滑的PDF进行数据拟合"
   ]
  },
  {
   "cell_type": "code",
   "execution_count": 84,
   "metadata": {
    "collapsed": false
   },
   "outputs": [],
   "source": [
    "from thinkbayes import EstimatedPdf, MakeCdfFromList, GaussianPdf\n",
    "import numpy as np\n",
    "from tools import ReadData"
   ]
  },
  {
   "cell_type": "code",
   "execution_count": 85,
   "metadata": {
    "collapsed": true
   },
   "outputs": [],
   "source": [
    "from thinkbayes import Suite\n",
    "class Price(Suite):\n",
    "    def __init__(self, pmf, player, name=''):\n",
    "        Suite.__init__(self, pmf, name=name)\n",
    "        self.player = player\n",
    "        \n",
    "    def Likelihood(self, data, hypo):\n",
    "        price = hypo # 历史数据中统计的价格\n",
    "        guess = data # 选手猜测的价格\n",
    "        \n",
    "        error = price - guess\n",
    "        like = self.player.ErrorDensity(error)\n",
    "        return like"
   ]
  },
  {
   "cell_type": "code",
   "execution_count": 86,
   "metadata": {
    "collapsed": true
   },
   "outputs": [],
   "source": [
    "class Player(object):\n",
    "    n = 101\n",
    "    price_xs = np.linspace(0, 75000, n)\n",
    "    \n",
    "    def __init__(self, prices, bids, diffs):\n",
    "        # KDE 内核密度估计\n",
    "        self.pdf_price = EstimatedPdf(prices)\n",
    "        # 出价差的累计分布\n",
    "        self.cdf_diff = MakeCdfFromList(diffs)\n",
    "        \n",
    "        # 假设error的分布是一个和diff方差相同，均值为0的高斯分布\n",
    "        mu = 0\n",
    "        sigma = np.std(diffs)\n",
    "        self.pdf_error = GaussianPdf(mu, sigma)\n",
    "        \n",
    "    def PmfPrice(self):\n",
    "        # 转换成概率质量函数\n",
    "        return self.pdf_price.MakePmf(self.price_xs)\n",
    "    \n",
    "    def MakeBeliefs(self, guess):\n",
    "        pmf = self.PmfPrice()\n",
    "        self.prior = Price(pmf, self, name='prior')\n",
    "        self.posterior = self.prior.Copy(name='posterior')\n",
    "        self.posterior.Update(guess)\n",
    "        \n",
    "    def ErrorDensity(self, error):\n",
    "        return self.pdf_error.Density(error)\n",
    "    \n",
    "    def ProbOverbid(self):\n",
    "        # 选手预测超过实际价格的概率\n",
    "        return self.cdf_diff.Prob(-1)\n",
    "    \n",
    "    def ProbWorseThan(self, diff):\n",
    "        return 1 - self.cdf_diff.Prob(diff)"
   ]
  },
  {
   "cell_type": "code",
   "execution_count": 87,
   "metadata": {
    "collapsed": true
   },
   "outputs": [],
   "source": [
    "def MakePlayers():\n",
    "    data = ReadData('./data/showcases.2011.csv')\n",
    "    data += ReadData('./data/showcases.2012.csv')\n",
    "    cols = zip(*data)\n",
    "    # 实际价格， 猜测价格， 误差\n",
    "    price1, price2, bid1, bid2, diff1, diff2 = cols\n",
    "    \n",
    "    player1 = Player(price1, bid1, diff1)\n",
    "    player2 = Player(price2, bid2, diff2)\n",
    "    \n",
    "    return player1, player2"
   ]
  },
  {
   "cell_type": "code",
   "execution_count": 88,
   "metadata": {
    "collapsed": true
   },
   "outputs": [],
   "source": [
    "guess1 = 20000\n",
    "guess2 = 40000\n",
    "# 将选手作为一种误差特性已知的价格猜测仪来建模\n",
    "player1, player2 = MakePlayers()\n",
    "\n",
    "# 我们把之前的历史数据当做先验概率，然后基于你的猜测去修正它\n",
    "player1.MakeBeliefs(guess1)\n",
    "player2.MakeBeliefs(guess2)"
   ]
  },
  {
   "cell_type": "markdown",
   "metadata": {},
   "source": [
    "对于Player1，如果你认为价格是20000美元，那么在考虑猜测误差的情况下，你应该相信价格是24000美元。"
   ]
  },
  {
   "cell_type": "code",
   "execution_count": 89,
   "metadata": {
    "collapsed": false
   },
   "outputs": [
    {
     "name": "stdout",
     "output_type": "stream",
     "text": [
      "('Player 1 prior mle', 27750.0)\n",
      "('Player 2 prior mle', 27750.0)\n",
      "('Player 1 mean', 25096.411816206248)\n",
      "('Player 2 mean', 35641.216869713542)\n",
      "('Player 1 mle', 24000.0)\n",
      "('Player 2 mle', 35250.0)\n"
     ]
    }
   ],
   "source": [
    "print('Player 1 prior mle', player1.prior.MaximumLikelihood())\n",
    "print('Player 2 prior mle', player2.prior.MaximumLikelihood())\n",
    "print('Player 1 mean', player1.posterior.Mean())\n",
    "print('Player 2 mean', player2.posterior.Mean())\n",
    "print('Player 1 mle', player1.posterior.MaximumLikelihood())\n",
    "print('Player 2 mle', player2.posterior.MaximumLikelihood())"
   ]
  },
  {
   "cell_type": "markdown",
   "metadata": {},
   "source": [
    "## 最优出价"
   ]
  },
  {
   "cell_type": "code",
   "execution_count": 90,
   "metadata": {
    "collapsed": true
   },
   "outputs": [],
   "source": [
    "class GainCalculator(object):\n",
    "    # 计算最优报价\n",
    "    def __init__(self, player, opponent):\n",
    "        self.player = player\n",
    "        self.opponent = opponent\n",
    "        \n",
    "    # 为每次出价计算投标序列和预期收益\n",
    "    def ExpectedGains(self, low=0, high=75000, n=101):\n",
    "        bids = np.linspace(low, high, n)\n",
    "        # bid是选手可能的出价\n",
    "        gains = [self.ExpectedGain(bid) for bid in bids]\n",
    "        \n",
    "        return bids, gains\n",
    "    \n",
    "    # 计算对于一个给定的报价的预期值\n",
    "    def ExpectedGain(self, bid):\n",
    "        suite = self.player.posterior\n",
    "        # 此时的后验即可看做商品真实的价格\n",
    "        total = 0\n",
    "        for price, prob in sorted(suite.Items()):\n",
    "            gain = self.Gain(bid, price)\n",
    "            total += prob * gain\n",
    "        return total\n",
    "            \n",
    "    def Gain(self, bid, price):\n",
    "        if bid > price:\n",
    "            return 0\n",
    "        \n",
    "        diff = price - bid\n",
    "        prob = self.ProbWin(diff)\n",
    "        \n",
    "        if diff <= 250:\n",
    "            return 2 * price * prob\n",
    "        else:\n",
    "            return price * prob\n",
    "        \n",
    "    def ProbWin(self, diff):\n",
    "        prob = (self.opponent.ProbOverbid() +\n",
    "                self.opponent.ProbWorseThan(diff))\n",
    "        return prob"
   ]
  },
  {
   "cell_type": "code",
   "execution_count": 94,
   "metadata": {
    "collapsed": false
   },
   "outputs": [
    {
     "data": {
      "image/png": "[encoded data removed]",
      "text/plain": [
       "<matplotlib.figure.Figure at 0x7f2b58005250>"
      ]
     },
     "metadata": {},
     "output_type": "display_data"
    }
   ],
   "source": [
    "calc1 = GainCalculator(player1, player2)\n",
    "calc2 = GainCalculator(player2, player1)\n",
    "bids1, gains1 = calc1.ExpectedGains()\n",
    "bids2, gains2 = calc2.ExpectedGains()\n",
    "import matplotlib.pyplot as plt\n",
    "plt.plot(bids1, gains1, bids2, gains2)\n",
    "plt.show()"
   ]
  }
 ],
 "metadata": {
  "anaconda-cloud": {},
  "kernelspec": {
   "display_name": "Python [conda root]",
   "language": "python",
   "name": "conda-root-py"
  },
  "language_info": {
   "codemirror_mode": {
    "name": "ipython",
    "version": 2
   },
   "file_extension": ".py",
   "mimetype": "text/x-python",
   "name": "python",
   "nbconvert_exporter": "python",
   "pygments_lexer": "ipython2",
   "version": "2.7.12"
  }
 },
 "nbformat": 4,
 "nbformat_minor": 1
}
