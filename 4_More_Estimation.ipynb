{
 "cells": [
  {
   "cell_type": "markdown",
   "metadata": {},
   "source": [
    "# 估计进阶"
   ]
  },
  {
   "cell_type": "markdown",
   "metadata": {},
   "source": [
    "## 欧元问题\n",
    "> 当以边缘转动比利时一欧元硬币250次后，得到的结果是正面140次反面110次。  \n",
    "> “这看起来很可疑”，伦敦经济学院的统计讲师巴里布莱特说，“如果硬币是均匀  \n",
    "> 的，得到这个结果的可能性低于7%。”"
   ]
  },
  {
   "cell_type": "code",
   "execution_count": 18,
   "metadata": {
    "collapsed": false
   },
   "outputs": [],
   "source": [
    "from thinkbayes import Suite\n",
    "class Euro(Suite):\n",
    "    def Likelihood(self, data, hypo):\n",
    "        x = hypo\n",
    "        if data == \"H\":\n",
    "            return x / 100.0\n",
    "        else:\n",
    "            return 1 - x/100.0\n",
    "        \n",
    "suite = Euro(xrange(0, 101))\n",
    "dataset = 'H'*140 + 'T'*110\n",
    "for data in dataset:\n",
    "    suite.Update(data)"
   ]
  },
  {
   "cell_type": "code",
   "execution_count": 19,
   "metadata": {
    "collapsed": false
   },
   "outputs": [
    {
     "data": {
      "image/png": "[encoded data removed]",
      "text/plain": [
       "<matplotlib.figure.Figure at 0x7f6e6990b250>"
      ]
     },
     "metadata": {},
     "output_type": "display_data"
    }
   ],
   "source": [
    "x = [item[0] for item in suite.Items()]\n",
    "prob = [item[1] for item in suite.Items()]\n",
    "import matplotlib.pyplot as plt\n",
    "plt.plot(x, prob, label=\"uniform\")\n",
    "plt.legend()\n",
    "plt.show()"
   ]
  },
  {
   "cell_type": "code",
   "execution_count": 25,
   "metadata": {
    "collapsed": false
   },
   "outputs": [
    {
     "name": "stdout",
     "output_type": "stream",
     "text": [
      "('MaximumLikelihood', 56)\n",
      "('Mean', 55.952380952380956)\n",
      "('Median', 56)\n",
      "('CredibleInterval', (51, 61))\n"
     ]
    }
   ],
   "source": [
    "from thinkbayes import Percentile, CredibleInterval\n",
    "print(\"MaximumLikelihood\", suite.MaximumLikelihood())\n",
    "print(\"Mean\", suite.Mean())\n",
    "print(\"Median\", Percentile(suite, 50))\n",
    "print(\"CredibleInterval\", CredibleInterval(suite, 90))"
   ]
  },
  {
   "cell_type": "markdown",
   "metadata": {},
   "source": [
    "## 先验概率的湮没\n",
    "如果有足够的数据，即使在先验分布上持有不同观点，人们也会得到趋于收敛的后验概率。"
   ]
  },
  {
   "cell_type": "code",
   "execution_count": 29,
   "metadata": {
    "collapsed": false
   },
   "outputs": [
    {
     "name": "stdout",
     "output_type": "stream",
     "text": [
      "('MaximumLikelihood', 56)\n",
      "('Mean', 55.74349943859506)\n",
      "('Median', 56)\n",
      "('CredibleInterval', (51, 61))\n"
     ]
    }
   ],
   "source": [
    "# 三角形状的先验概率\n",
    "suite = Euro()\n",
    "for x in xrange(0, 51):\n",
    "    suite.Set(x, x)\n",
    "for x in xrange(51, 101):\n",
    "    suite.Set(x, 100-x)\n",
    "suite.Normalize()\n",
    "dataset = 'H'*140 + 'T'*110\n",
    "for data in dataset:\n",
    "    suite.Update(data)\n",
    "print(\"MaximumLikelihood\", suite.MaximumLikelihood())\n",
    "# 只有均值相差0.5%\n",
    "print(\"Mean\", suite.Mean())\n",
    "print(\"Median\", Percentile(suite, 50))\n",
    "print(\"CredibleInterval\", CredibleInterval(suite, 90))"
   ]
  }
 ],
 "metadata": {
  "anaconda-cloud": {},
  "kernelspec": {
   "display_name": "Python [conda root]",
   "language": "python",
   "name": "conda-root-py"
  },
  "language_info": {
   "codemirror_mode": {
    "name": "ipython",
    "version": 2
   },
   "file_extension": ".py",
   "mimetype": "text/x-python",
   "name": "python",
   "nbconvert_exporter": "python",
   "pygments_lexer": "ipython2",
   "version": "2.7.12"
  }
 },
 "nbformat": 4,
 "nbformat_minor": 1
}
